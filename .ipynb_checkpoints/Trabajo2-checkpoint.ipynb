{
 "cells": [
  {
   "cell_type": "markdown",
   "metadata": {},
   "source": [
    "# Pruebas de Hipótesis - Correlación y Regresión"
   ]
  },
  {
   "cell_type": "markdown",
   "metadata": {},
   "source": [
    "El estudiante debe descargar el archivo del siguiente enlace y realizar el respectivo análisis haciendo uso de los modelos lineales: https://www.dropbox.com/s/vv0f1k2y5nalpgx/bank-additional-full.csv?dl=0\n",
    "\n",
    "Los datos están relacionados con las campañas de marketing directo de una institución bancaria portuguesa. Las campañas de marketing se basaron en llamadas telefónicas. A menudo, se requería más de un contacto con el mismo cliente, para poder acceder si el producto (depósito bancario) estaba (\"sí\") o no (\"no\") suscrito.\n",
    "\n",
    "Las variables registradas son las siguientes:\n",
    "\n",
    "-    `age` - edad\n",
    "-    `job` tipo de trabajo \n",
    "-    `marital` - estado civil\n",
    "-    `education` - nivel educativo\n",
    "-    `default` - crédito en incumplimiento\n",
    "-    `housing` - crédito de vivienda\n",
    "-    `loan` - préstamos personal\n",
    "-    `contact` - tipo de contacto realizado\n",
    "-    `month` - mes en que se hizo el último contacto\n",
    "-    `day_of_week` - último día de contacto de la semana\n",
    "-    `duration` - duración del último contacto, en segundos\n",
    "-    `campaign` - número de contactos realizados durante esta campaña y para este cliente\n",
    "-    `pdays` - número de días que pasaron después de que el cliente fue contactado por última vez desde una campaña anterior (999 significa que el cliente no fue contactado previamente)\n",
    "-    `previous`- número de contactos realizados antes de esta campaña y para este cliente\n",
    "-    `poutcome` - resultado de la campaña de marketing anterior\n",
    "-    `emp.var.rate`- tasa de variación del empleo - indicador trimestral\n",
    "-    `cons.price.idx` - índice de precios al consumidor - indicador mensual\n",
    "-    `cons.conf.idx` - índice de confianza del consumidor - indicador mensual\n",
    "-    `euribor3m` - euribor tasa de 3 meses - indicador diario\n",
    "-    `nr.employed` - número de empleados\n",
    "-    `y` - ¿el cliente ha suscrito un depósito a plazo?\n",
    "\n",
    "Los datos fueron tomados de: S. Moro, R. Laureano and P. Cortez. Using Data Mining for Bank Direct Marketing: An Application of the CRISP-DM Methodology. In P. Novais et al. (Eds.), Proceedings of the European Simulation and Modelling Conference - ESM'2011, pp. 117-121, Guimarães, Portugal, October, 2011. EUROSIS."
   ]
  },
  {
   "cell_type": "markdown",
   "metadata": {},
   "source": [
    "**Asignatura: Estadistica 2**\n",
    "\n",
    "**Profesor: Carlos Alfonso Mantilla Duarte**\n",
    "\n",
    "**Grupo: F1**\n",
    "\n",
    "\n",
    "\n",
    "<table style=\"font-size:14px;\">\n",
    "<thead>\n",
    "<td style=\"text-align:center\" ><strong>Integrante</strong></td>\n",
    "<td style=\"text-align:center\"><strong>Codigo</strong></td>\n",
    "</thead>\n",
    "<tr>\n",
    "<td style=\"text-align:center\">Orlando Alberto Moncada Rodriguez</td>\n",
    "<td style=\"text-align:center\">2170133</td>\n",
    "</tr>\n",
    "    <tr>\n",
    "<td style=\"text-align:center\">Santiago Andres Castro Duitama</td>\n",
    "<td style=\"text-align:center\">2170134</td>\n",
    "</tr>\n",
    "    <tr>\n",
    "<td style=\"text-align:center\">David Santiago Morales Norato</td>\n",
    "<td style=\"text-align:center\">2170102</td>\n",
    "</tr>\n",
    "</table>"
   ]
  },
  {
   "cell_type": "code",
   "execution_count": null,
   "metadata": {},
   "outputs": [],
   "source": []
  }
 ],
 "metadata": {
  "kernelspec": {
   "display_name": "R",
   "language": "R",
   "name": "ir"
  },
  "language_info": {
   "codemirror_mode": "r",
   "file_extension": ".r",
   "mimetype": "text/x-r-source",
   "name": "R",
   "pygments_lexer": "r",
   "version": "3.6.1"
  }
 },
 "nbformat": 4,
 "nbformat_minor": 4
}
