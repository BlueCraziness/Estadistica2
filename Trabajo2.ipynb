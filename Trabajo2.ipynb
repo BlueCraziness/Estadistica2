{
 "cells": [
  {
   "cell_type": "markdown",
   "metadata": {},
   "source": [
    "# Pruebas de Hipótesis - Correlación y Regresión"
   ]
  },
  {
   "cell_type": "markdown",
   "metadata": {},
   "source": [
    "El estudiante debe descargar el archivo del siguiente enlace y realizar el respectivo análisis haciendo uso de los modelos lineales: https://www.dropbox.com/s/vv0f1k2y5nalpgx/bank-additional-full.csv?dl=0\n",
    "\n",
    "Los datos están relacionados con las campañas de marketing directo de una institución bancaria portuguesa. Las campañas de marketing se basaron en llamadas telefónicas. A menudo, se requería más de un contacto con el mismo cliente, para poder acceder si el producto (depósito bancario) estaba (\"sí\") o no (\"no\") suscrito.\n",
    "\n",
    "Las variables registradas son las siguientes:\n",
    "\n",
    "-    `age` - edad\n",
    "-    `job` - tipo de trabajo \n",
    "-    `marital` - estado civil\n",
    "-    `education` - nivel educativo\n",
    "-    `default` - crédito en incumplimiento\n",
    "-    `housing` - crédito de vivienda\n",
    "-    `loan` - préstamos personal\n",
    "-    `contact` - tipo de contacto realizado\n",
    "-    `month` - mes en que se hizo el último contacto\n",
    "-    `day_of_week` - último día de contacto de la semana\n",
    "-    `duration` - duración del último contacto, en segundos\n",
    "-    `campaign` - número de contactos realizados durante esta campaña y para este cliente\n",
    "-    `pdays` - número de días que pasaron después de que el cliente fue contactado por última vez desde una campaña anterior (999 significa que el cliente no fue contactado previamente)\n",
    "-    `previous`- número de contactos realizados antes de esta campaña y para este cliente\n",
    "-    `poutcome` - resultado de la campaña de marketing anterior\n",
    "-    `emp.var.rate`- tasa de variación del empleo - indicador trimestral\n",
    "-    `cons.price.idx` - índice de precios al consumidor - indicador mensual\n",
    "-    `cons.conf.idx` - índice de confianza del consumidor - indicador mensual\n",
    "-    `euribor3m` - euribor tasa de 3 meses - indicador diario\n",
    "-    `nr.employed` - número de empleados\n",
    "-    `y` - ¿el cliente ha suscrito un depósito a plazo?\n",
    "\n",
    "Los datos fueron tomados de: S. Moro, R. Laureano and P. Cortez. Using Data Mining for Bank Direct Marketing: An Application of the CRISP-DM Methodology. In P. Novais et al. (Eds.), Proceedings of the European Simulation and Modelling Conference - ESM'2011, pp. 117-121, Guimarães, Portugal, October, 2011. EUROSIS."
   ]
  },
  {
   "cell_type": "markdown",
   "metadata": {},
   "source": [
    "**Asignatura: Estadistica 2**\n",
    "\n",
    "**Profesor: Carlos Alfonso Mantilla Duarte**\n",
    "\n",
    "**Grupo: F1**\n",
    "\n",
    "\n",
    "\n",
    "<table style=\"font-size:14px;\">\n",
    "<thead>\n",
    "<td style=\"text-align:center\" ><strong>Integrante</strong></td>\n",
    "<td style=\"text-align:center\"><strong>Codigo</strong></td>\n",
    "</thead>\n",
    "<tr>\n",
    "<td style=\"text-align:center\">Orlando Alberto Moncada Rodriguez</td>\n",
    "<td style=\"text-align:center\">2170133</td>\n",
    "</tr>\n",
    "    <tr>\n",
    "<td style=\"text-align:center\">Santiago Andres Castro Duitama</td>\n",
    "<td style=\"text-align:center\">2170134</td>\n",
    "</tr>\n",
    "    <tr>\n",
    "<td style=\"text-align:center\">David Santiago Morales Norato</td>\n",
    "<td style=\"text-align:center\">2170102</td>\n",
    "</tr>\n",
    "</table>"
   ]
  },
  {
   "cell_type": "markdown",
   "metadata": {},
   "source": [
    "## Importamos los datos"
   ]
  },
  {
   "cell_type": "code",
   "execution_count": 11,
   "metadata": {},
   "outputs": [
    {
     "data": {
      "text/html": [
       "<table>\n",
       "<thead><tr><th scope=col>age</th><th scope=col>job</th><th scope=col>marital</th><th scope=col>education</th><th scope=col>default</th><th scope=col>housing</th><th scope=col>loan</th><th scope=col>contact</th><th scope=col>month</th><th scope=col>day_of_week</th><th scope=col>...</th><th scope=col>campaign</th><th scope=col>pdays</th><th scope=col>previous</th><th scope=col>poutcome</th><th scope=col>emp.var.rate</th><th scope=col>cons.price.idx</th><th scope=col>cons.conf.idx</th><th scope=col>euribor3m</th><th scope=col>nr.employed</th><th scope=col>y</th></tr></thead>\n",
       "<tbody>\n",
       "\t<tr><td>56         </td><td>housemaid  </td><td>married    </td><td>basic.4y   </td><td>no         </td><td>no         </td><td>no         </td><td>telephone  </td><td>may        </td><td>mon        </td><td>...        </td><td>1          </td><td>999        </td><td>0          </td><td>nonexistent</td><td>1.1        </td><td>93.994     </td><td>-36.4      </td><td>4.857      </td><td>5191       </td><td>no         </td></tr>\n",
       "\t<tr><td>57         </td><td>services   </td><td>married    </td><td>high.school</td><td>unknown    </td><td>no         </td><td>no         </td><td>telephone  </td><td>may        </td><td>mon        </td><td>...        </td><td>1          </td><td>999        </td><td>0          </td><td>nonexistent</td><td>1.1        </td><td>93.994     </td><td>-36.4      </td><td>4.857      </td><td>5191       </td><td>no         </td></tr>\n",
       "\t<tr><td>37         </td><td>services   </td><td>married    </td><td>high.school</td><td>no         </td><td>yes        </td><td>no         </td><td>telephone  </td><td>may        </td><td>mon        </td><td>...        </td><td>1          </td><td>999        </td><td>0          </td><td>nonexistent</td><td>1.1        </td><td>93.994     </td><td>-36.4      </td><td>4.857      </td><td>5191       </td><td>no         </td></tr>\n",
       "\t<tr><td>40         </td><td>admin.     </td><td>married    </td><td>basic.6y   </td><td>no         </td><td>no         </td><td>no         </td><td>telephone  </td><td>may        </td><td>mon        </td><td>...        </td><td>1          </td><td>999        </td><td>0          </td><td>nonexistent</td><td>1.1        </td><td>93.994     </td><td>-36.4      </td><td>4.857      </td><td>5191       </td><td>no         </td></tr>\n",
       "\t<tr><td>56         </td><td>services   </td><td>married    </td><td>high.school</td><td>no         </td><td>no         </td><td>yes        </td><td>telephone  </td><td>may        </td><td>mon        </td><td>...        </td><td>1          </td><td>999        </td><td>0          </td><td>nonexistent</td><td>1.1        </td><td>93.994     </td><td>-36.4      </td><td>4.857      </td><td>5191       </td><td>no         </td></tr>\n",
       "\t<tr><td>45         </td><td>services   </td><td>married    </td><td>basic.9y   </td><td>unknown    </td><td>no         </td><td>no         </td><td>telephone  </td><td>may        </td><td>mon        </td><td>...        </td><td>1          </td><td>999        </td><td>0          </td><td>nonexistent</td><td>1.1        </td><td>93.994     </td><td>-36.4      </td><td>4.857      </td><td>5191       </td><td>no         </td></tr>\n",
       "</tbody>\n",
       "</table>\n"
      ],
      "text/latex": [
       "\\begin{tabular}{r|lllllllllllllllllllll}\n",
       " age & job & marital & education & default & housing & loan & contact & month & day\\_of\\_week & ... & campaign & pdays & previous & poutcome & emp.var.rate & cons.price.idx & cons.conf.idx & euribor3m & nr.employed & y\\\\\n",
       "\\hline\n",
       "\t 56          & housemaid   & married     & basic.4y    & no          & no          & no          & telephone   & may         & mon         & ...         & 1           & 999         & 0           & nonexistent & 1.1         & 93.994      & -36.4       & 4.857       & 5191        & no         \\\\\n",
       "\t 57          & services    & married     & high.school & unknown     & no          & no          & telephone   & may         & mon         & ...         & 1           & 999         & 0           & nonexistent & 1.1         & 93.994      & -36.4       & 4.857       & 5191        & no         \\\\\n",
       "\t 37          & services    & married     & high.school & no          & yes         & no          & telephone   & may         & mon         & ...         & 1           & 999         & 0           & nonexistent & 1.1         & 93.994      & -36.4       & 4.857       & 5191        & no         \\\\\n",
       "\t 40          & admin.      & married     & basic.6y    & no          & no          & no          & telephone   & may         & mon         & ...         & 1           & 999         & 0           & nonexistent & 1.1         & 93.994      & -36.4       & 4.857       & 5191        & no         \\\\\n",
       "\t 56          & services    & married     & high.school & no          & no          & yes         & telephone   & may         & mon         & ...         & 1           & 999         & 0           & nonexistent & 1.1         & 93.994      & -36.4       & 4.857       & 5191        & no         \\\\\n",
       "\t 45          & services    & married     & basic.9y    & unknown     & no          & no          & telephone   & may         & mon         & ...         & 1           & 999         & 0           & nonexistent & 1.1         & 93.994      & -36.4       & 4.857       & 5191        & no         \\\\\n",
       "\\end{tabular}\n"
      ],
      "text/markdown": [
       "\n",
       "| age | job | marital | education | default | housing | loan | contact | month | day_of_week | ... | campaign | pdays | previous | poutcome | emp.var.rate | cons.price.idx | cons.conf.idx | euribor3m | nr.employed | y |\n",
       "|---|---|---|---|---|---|---|---|---|---|---|---|---|---|---|---|---|---|---|---|---|\n",
       "| 56          | housemaid   | married     | basic.4y    | no          | no          | no          | telephone   | may         | mon         | ...         | 1           | 999         | 0           | nonexistent | 1.1         | 93.994      | -36.4       | 4.857       | 5191        | no          |\n",
       "| 57          | services    | married     | high.school | unknown     | no          | no          | telephone   | may         | mon         | ...         | 1           | 999         | 0           | nonexistent | 1.1         | 93.994      | -36.4       | 4.857       | 5191        | no          |\n",
       "| 37          | services    | married     | high.school | no          | yes         | no          | telephone   | may         | mon         | ...         | 1           | 999         | 0           | nonexistent | 1.1         | 93.994      | -36.4       | 4.857       | 5191        | no          |\n",
       "| 40          | admin.      | married     | basic.6y    | no          | no          | no          | telephone   | may         | mon         | ...         | 1           | 999         | 0           | nonexistent | 1.1         | 93.994      | -36.4       | 4.857       | 5191        | no          |\n",
       "| 56          | services    | married     | high.school | no          | no          | yes         | telephone   | may         | mon         | ...         | 1           | 999         | 0           | nonexistent | 1.1         | 93.994      | -36.4       | 4.857       | 5191        | no          |\n",
       "| 45          | services    | married     | basic.9y    | unknown     | no          | no          | telephone   | may         | mon         | ...         | 1           | 999         | 0           | nonexistent | 1.1         | 93.994      | -36.4       | 4.857       | 5191        | no          |\n",
       "\n"
      ],
      "text/plain": [
       "  age job       marital education   default housing loan contact   month\n",
       "1 56  housemaid married basic.4y    no      no      no   telephone may  \n",
       "2 57  services  married high.school unknown no      no   telephone may  \n",
       "3 37  services  married high.school no      yes     no   telephone may  \n",
       "4 40  admin.    married basic.6y    no      no      no   telephone may  \n",
       "5 56  services  married high.school no      no      yes  telephone may  \n",
       "6 45  services  married basic.9y    unknown no      no   telephone may  \n",
       "  day_of_week ... campaign pdays previous poutcome    emp.var.rate\n",
       "1 mon         ... 1        999   0        nonexistent 1.1         \n",
       "2 mon         ... 1        999   0        nonexistent 1.1         \n",
       "3 mon         ... 1        999   0        nonexistent 1.1         \n",
       "4 mon         ... 1        999   0        nonexistent 1.1         \n",
       "5 mon         ... 1        999   0        nonexistent 1.1         \n",
       "6 mon         ... 1        999   0        nonexistent 1.1         \n",
       "  cons.price.idx cons.conf.idx euribor3m nr.employed y \n",
       "1 93.994         -36.4         4.857     5191        no\n",
       "2 93.994         -36.4         4.857     5191        no\n",
       "3 93.994         -36.4         4.857     5191        no\n",
       "4 93.994         -36.4         4.857     5191        no\n",
       "5 93.994         -36.4         4.857     5191        no\n",
       "6 93.994         -36.4         4.857     5191        no"
      ]
     },
     "metadata": {},
     "output_type": "display_data"
    }
   ],
   "source": [
    "bank<-read.csv(\"bank-additional-full.csv\")\n",
    "head(bank)"
   ]
  },
  {
   "cell_type": "code",
   "execution_count": null,
   "metadata": {},
   "outputs": [],
   "source": []
  }
 ],
 "metadata": {
  "kernelspec": {
   "display_name": "R",
   "language": "R",
   "name": "ir"
  },
  "language_info": {
   "codemirror_mode": "r",
   "file_extension": ".r",
   "mimetype": "text/x-r-source",
   "name": "R",
   "pygments_lexer": "r",
   "version": "3.6.1"
  }
 },
 "nbformat": 4,
 "nbformat_minor": 4
}
